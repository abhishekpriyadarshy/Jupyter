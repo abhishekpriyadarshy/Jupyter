{
 "cells": [
  {
   "cell_type": "code",
   "execution_count": 1,
   "id": "e41285ca",
   "metadata": {},
   "outputs": [
    {
     "name": "stdout",
     "output_type": "stream",
     "text": [
      "Requirement already satisfied: transformers in c:\\users\\abhis\\anaconda3\\lib\\site-packages (4.24.0)\n",
      "Requirement already satisfied: tokenizers!=0.11.3,<0.14,>=0.11.1 in c:\\users\\abhis\\anaconda3\\lib\\site-packages (from transformers) (0.11.4)\n",
      "Requirement already satisfied: packaging>=20.0 in c:\\users\\abhis\\anaconda3\\lib\\site-packages (from transformers) (22.0)\n",
      "Requirement already satisfied: pyyaml>=5.1 in c:\\users\\abhis\\anaconda3\\lib\\site-packages (from transformers) (6.0)\n",
      "Requirement already satisfied: regex!=2019.12.17 in c:\\users\\abhis\\anaconda3\\lib\\site-packages (from transformers) (2022.7.9)\n",
      "Requirement already satisfied: requests in c:\\users\\abhis\\anaconda3\\lib\\site-packages (from transformers) (2.28.1)\n",
      "Requirement already satisfied: huggingface-hub<1.0,>=0.10.0 in c:\\users\\abhis\\anaconda3\\lib\\site-packages (from transformers) (0.10.1)\n",
      "Requirement already satisfied: filelock in c:\\users\\abhis\\anaconda3\\lib\\site-packages (from transformers) (3.9.0)\n",
      "Requirement already satisfied: tqdm>=4.27 in c:\\users\\abhis\\anaconda3\\lib\\site-packages (from transformers) (4.64.1)\n",
      "Requirement already satisfied: numpy>=1.17 in c:\\users\\abhis\\anaconda3\\lib\\site-packages (from transformers) (1.23.5)\n",
      "Requirement already satisfied: typing-extensions>=3.7.4.3 in c:\\users\\abhis\\anaconda3\\lib\\site-packages (from huggingface-hub<1.0,>=0.10.0->transformers) (4.4.0)\n",
      "Requirement already satisfied: colorama in c:\\users\\abhis\\anaconda3\\lib\\site-packages (from tqdm>=4.27->transformers) (0.4.6)\n",
      "Requirement already satisfied: urllib3<1.27,>=1.21.1 in c:\\users\\abhis\\anaconda3\\lib\\site-packages (from requests->transformers) (1.26.14)\n",
      "Requirement already satisfied: idna<4,>=2.5 in c:\\users\\abhis\\anaconda3\\lib\\site-packages (from requests->transformers) (3.4)\n",
      "Requirement already satisfied: certifi>=2017.4.17 in c:\\users\\abhis\\anaconda3\\lib\\site-packages (from requests->transformers) (2023.7.22)\n",
      "Requirement already satisfied: charset-normalizer<3,>=2 in c:\\users\\abhis\\anaconda3\\lib\\site-packages (from requests->transformers) (2.0.4)\n"
     ]
    },
    {
     "name": "stderr",
     "output_type": "stream",
     "text": [
      "No model was supplied, defaulted to sshleifer/distilbart-cnn-12-6 and revision a4f8f3e (https://huggingface.co/sshleifer/distilbart-cnn-12-6).\n",
      "Using a pipeline without specifying a model name and revision in production is not recommended.\n"
     ]
    }
   ],
   "source": [
    "#!pip install transformers\n",
    "from transformers import pipeline\n",
    "\n",
    "# Load the pre-trained model for summarization\n",
    "summarizer = pipeline(\"summarization\")\n",
    "\n"
   ]
  },
  {
   "cell_type": "code",
   "execution_count": 2,
   "id": "9aaa476f",
   "metadata": {},
   "outputs": [],
   "source": [
    "# Example text for summarization\n",
    "text = \"\"\"\n",
    "Artificial intelligence (AI) technology is fundamentally shaping how contact centers operate, significantly improving customer experience while delivering cost savings and efficiencies. As evidence of its value grows, AI is increasingly considered a necessity to compete effectively by delivering faster, more accurate customer service.\n",
    "\n",
    "CX professionals understand the importance of AI, yet organizations still struggle to deploy and adopt this technology in truly meaningful ways. 89% of CX professionals believe in the importance of leveraging AI in the contact center, yet only 14% of organizations consider themselves “transformational” in employing AI to do heavy lifting for the business.\n",
    "\n",
    "This report examines the evolving perceptions of AI and its maturity in the CX space. Download the report to explore these key drivers and expectations, as well as four key predictions on how AI will shape the contact center through 2025.\n",
    "\n",
    "\"\"\"\n",
    "\n",
    "# Generate the summary\n",
    "summary = summarizer(text, max_length=150, min_length=30, do_sample=False)\n",
    "\n",
    "# Get the summarized text\n",
    "summarized_text = summary[0]['summary_text']\n"
   ]
  },
  {
   "cell_type": "code",
   "execution_count": 3,
   "id": "0b1000a8",
   "metadata": {},
   "outputs": [
    {
     "name": "stdout",
     "output_type": "stream",
     "text": [
      "Text Summary:\n",
      " Report examines the evolving perceptions of AI and its maturity in the CX space . 89% of CX professionals believe in the importance of leveraging AI in the contact center . 14% of organizations consider themselves “transformational” in employing AI to do heavy lifting for the business .\n"
     ]
    }
   ],
   "source": [
    "# Print the summary\n",
    "print(\"Text Summary:\")\n",
    "print(summarized_text)\n"
   ]
  },
  {
   "cell_type": "code",
   "execution_count": null,
   "id": "98cc3399",
   "metadata": {},
   "outputs": [],
   "source": []
  },
  {
   "cell_type": "code",
   "execution_count": null,
   "id": "fd4f9774",
   "metadata": {},
   "outputs": [],
   "source": []
  }
 ],
 "metadata": {
  "kernelspec": {
   "display_name": "Python 3 (ipykernel)",
   "language": "python",
   "name": "python3"
  },
  "language_info": {
   "codemirror_mode": {
    "name": "ipython",
    "version": 3
   },
   "file_extension": ".py",
   "mimetype": "text/x-python",
   "name": "python",
   "nbconvert_exporter": "python",
   "pygments_lexer": "ipython3",
   "version": "3.10.9"
  }
 },
 "nbformat": 4,
 "nbformat_minor": 5
}
